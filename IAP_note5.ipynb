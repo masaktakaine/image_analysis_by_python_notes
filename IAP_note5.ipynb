{
 "cells": [
  {
   "cell_type": "markdown",
   "id": "40b99af3-f713-4901-ad5e-bc6d429c9ebf",
   "metadata": {
    "tags": []
   },
   "source": [
    "# Pythonによる画像解析ノート Vol. 5"
   ]
  },
  {
   "cell_type": "code",
   "execution_count": 1,
   "id": "f89e1d2f-c64a-46f3-a648-74eca9923cf3",
   "metadata": {},
   "outputs": [],
   "source": [
    "import numpy as np\n",
    "import scipy as sp\n",
    "import pandas as pd\n",
    "import matplotlib.pyplot as plt\n",
    "import cv2\n",
    "import imageio\n",
    "from PIL import Image as pilimage\n",
    "from IPython.display import display, Image\n",
    "\n",
    "# Jupyter notebookの中で画像を表示させるための関数、読み込んだ画像が16-bitならば画像を8bitに変換するように修正\n",
    "def show(img_grey):\n",
    "    if img_grey.dtype == \"uint16\":\n",
    "        img_grey = cv2.normalize(img_grey, None, 0, 255, cv2.NORM_MINMAX, dtype=cv2.CV_8U)\n",
    "    _, buf = cv2.imencode(\".jpg\", img_grey)\n",
    "    print(type(buf))\n",
    "    print(buf.shape)\n",
    "    display(Image(data = buf.tobytes()))"
   ]
  },
  {
   "cell_type": "markdown",
   "id": "d70f8cef-65c0-4f9c-b866-4da89edde454",
   "metadata": {
    "tags": []
   },
   "source": [
    "## ファイル操作  \n",
    "Pythonの標準ライブラリの1つであるosモジュールをインポートすると、様々なファイル操作ができる。"
   ]
  },
  {
   "cell_type": "code",
   "execution_count": 2,
   "id": "f30c145a-ea08-4229-bbd3-b8308cd0fdc6",
   "metadata": {},
   "outputs": [
    {
     "name": "stdout",
     "output_type": "stream",
     "text": [
      "False\n",
      "False\n",
      "True\n",
      "/Users/masak_takaine/Dropbox/MT_Python\n"
     ]
    }
   ],
   "source": [
    "import os\n",
    "print(os.path.exists(\"test.txt\")) # existsはファイルが存在するか確認\n",
    "print(os.path.isfile(\"bank.csv\")) # isfileはファイルかどうかを確かめる\n",
    "print(os.path.isdir(\"images\")) # isdirはディレクトリ（フォルダ）かどうかを確かめる\n",
    "print(os.getcwd()) # getcwd()でcurrent working directoryを取得\n",
    "# os.rename(\"bank.csv\", \"renamed_bank.csv\")  # ファイル名を変更したい場合はrenameを使う"
   ]
  },
  {
   "cell_type": "markdown",
   "id": "92a4aa7b-92c2-418c-b916-d178a47ad3d6",
   "metadata": {},
   "source": [
    "### フォルダの作成  \n",
    "`os.mkdir()`は既存のフォルダを上書きできないので、存在を確認してから作成。フォルダの削除には`os.rmdir()`を使う。"
   ]
  },
  {
   "cell_type": "code",
   "execution_count": 3,
   "id": "2b653ab9-bb39-4eee-af40-05d2f62cd8f4",
   "metadata": {},
   "outputs": [],
   "source": [
    "from os import path\n",
    "cwd = os.getcwd()\n",
    "test_dir = os.path.join(cwd, \"test_dir\") # os.path.joinを使うと勝手にseparatorを挟む\n",
    "if not os.path.exists(test_dir):  # dirSGが存在しなければ作成する\n",
    "    os.mkdir(test_dir)         \n",
    "        \n",
    "os.rmdir(test_dir) # フォルダの削除"
   ]
  },
  {
   "cell_type": "markdown",
   "id": "a6376d49-4967-4c9d-b7c3-3f976323bf1d",
   "metadata": {},
   "source": [
    "### ファイル名リストを取得  \n",
    "`os.listdir()`関数でフォルダ内のファイルのリストを取得。フォルダ名(folder_name)は文字列型にする必要がある。  \n",
    "サブフォルダがある場合はサブフォルダ内のファイル名もリストアップされる。  \n",
    "リスト内包表記を使用すると、特定の拡張子のファイル名だけを抽出することができる。  \n",
    "split(\".\")でピリオドの前後２つの単語に分かれる。[-1]は後ろの単語（=拡張子）を表す。[1]にしても同じ"
   ]
  },
  {
   "cell_type": "code",
   "execution_count": 4,
   "id": "29038377-d558-42ae-9bff-90ca4cacbaba",
   "metadata": {},
   "outputs": [
    {
     "name": "stdout",
     "output_type": "stream",
     "text": [
      "['mri-stack.tif', 'foci.tif', 'organ-of-corti.tif', 'dots.tif', 'Cell_Colony.tif', '3ch_image.tif', 'yeast_tl.tif', 'AuPbSn40.tif', 'yeast_2ch_regi.tif', 'Dot_Blot.tif', 'MAX_mitosis.tif', 'embryos.tif', 'cell_16bit.tif', 'yeast_2ch.tif', '2ch_image.tif', 'twitter_icon-1.tif', '2ch11z.tif', 'MAX_mitosis-1.tif', 'FluorescentCells.tif', 'ramp_rgb.tif', 'dots_large.tif', 'rgb_z15.tif']\n"
     ]
    }
   ],
   "source": [
    "folder_name = \"images\"\n",
    "filelist = os.listdir(str(folder_name)) # str型にする必要あり\n",
    "\n",
    "# tifファイルだけを抽出\n",
    "tif_files = [f for f in filelist if f.split(\".\")[-1] == \"tif\"]\n",
    "print(tif_files)"
   ]
  },
  {
   "cell_type": "markdown",
   "id": "757f9f28-5aab-4d03-922c-9203f485046c",
   "metadata": {},
   "source": [
    "ライブラリglobのglob()関数でも、フォルダ中のファイル名のリストを取得できる。  \n",
    "glob()は正規表現にマッチするパス名を返すので、特定の拡張子のファイルのみを取得することも可能。サブフォルダのファイル名もリストアップ。"
   ]
  },
  {
   "cell_type": "code",
   "execution_count": 5,
   "id": "ea11ca5a-e699-40c2-962f-daf3aeefc7be",
   "metadata": {},
   "outputs": [
    {
     "name": "stdout",
     "output_type": "stream",
     "text": [
      "ファイルの数: 7\n",
      "Excelファイル: ['/Users/masak_takaine/Dropbox/MT_Python/python_automation/9x9.xlsx', '/Users/masak_takaine/Dropbox/MT_Python/python_automation/renzoku.xlsx', '/Users/masak_takaine/Dropbox/MT_Python/python_automation/hello.xlsx', '/Users/masak_takaine/Dropbox/MT_Python/python_automation/cell_w.xlsx', '/Users/masak_takaine/Dropbox/MT_Python/python_automation/test100.xlsx']\n"
     ]
    }
   ],
   "source": [
    "import glob\n",
    "path = os.path.join(cwd, \"python_automation\")\n",
    "file_list = glob.glob(path + \"/\" + \"*\") #フォルダ内の全てのfile/folderのリストを取得\n",
    "excelfile_list = glob.glob(path + \"/\" + \"*.xlsx\") #フォルダ内のdocxファイルのリストを取得\n",
    "\n",
    "print(\"ファイルの数:\", len(file_list))\n",
    "print(\"Excelファイル:\", excelfile_list)"
   ]
  },
  {
   "cell_type": "markdown",
   "id": "4ae5daa4-95bf-4905-9bac-73767e4dc3e7",
   "metadata": {},
   "source": [
    "`os.path.basename()`関数を使うと上位のフォルダ名を除いたファイル名が取得できる"
   ]
  },
  {
   "cell_type": "code",
   "execution_count": 6,
   "id": "09b4733d-edac-4aca-84b2-bf284db9057c",
   "metadata": {},
   "outputs": [
    {
     "data": {
      "text/plain": [
       "['9x9.xlsx', 'renzoku.xlsx', 'hello.xlsx', 'cell_w.xlsx', 'test100.xlsx']"
      ]
     },
     "execution_count": 6,
     "metadata": {},
     "output_type": "execute_result"
    }
   ],
   "source": [
    "basenames = [os.path.basename(file) for file in excelfile_list] # リスト内包表記\n",
    "basenames"
   ]
  },
  {
   "cell_type": "markdown",
   "id": "38d7b883-f842-497f-9349-e3efd5a2f2de",
   "metadata": {},
   "source": [
    "### ファイル名から拡張子を除く  \n",
    "方法1: 正規表現を使用して、ピリオドとそれに続く任意の3文字を消去。"
   ]
  },
  {
   "cell_type": "code",
   "execution_count": 7,
   "id": "9d7535b4-036d-4aa4-b96e-824b6ecdb9cb",
   "metadata": {},
   "outputs": [
    {
     "data": {
      "text/plain": [
       "'test'"
      ]
     },
     "execution_count": 7,
     "metadata": {},
     "output_type": "execute_result"
    }
   ],
   "source": [
    "import re    # 正規表現モジュールreをインポート\n",
    "re.sub(\"\\\\....\", \"\", \"test.jpg\")    "
   ]
  },
  {
   "cell_type": "markdown",
   "id": "e04733ec-4dd4-4bd1-9fa6-327f48ad1fc5",
   "metadata": {},
   "source": [
    "方法2: 関数os.path.splittext()を利用。ピリオドで分割して1番目の要素を抽出。"
   ]
  },
  {
   "cell_type": "code",
   "execution_count": 8,
   "id": "580b1e10-cf0f-4d69-b10d-7727cdf71054",
   "metadata": {},
   "outputs": [
    {
     "data": {
      "text/plain": [
       "'test'"
      ]
     },
     "execution_count": 8,
     "metadata": {},
     "output_type": "execute_result"
    }
   ],
   "source": [
    "from os import path \n",
    "os.path.splitext(\"test.jpg\")[0]"
   ]
  },
  {
   "cell_type": "markdown",
   "id": "447d1658-564d-446a-bcbe-23641ae956bc",
   "metadata": {},
   "source": [
    "方法3: 関数split()を利用。ピリオドで分割して1番目の要素を抽出"
   ]
  },
  {
   "cell_type": "code",
   "execution_count": 9,
   "id": "843216aa-4e84-4300-99ab-a9303b6e6083",
   "metadata": {},
   "outputs": [
    {
     "data": {
      "text/plain": [
       "'test'"
      ]
     },
     "execution_count": 9,
     "metadata": {},
     "output_type": "execute_result"
    }
   ],
   "source": [
    "filename = \"test.jpg\" \n",
    "filename.split(\".\")[0]  # ピリオドで分割して、画像の名前を取得"
   ]
  },
  {
   "cell_type": "markdown",
   "id": "f37f4a48-53ee-46be-a451-633e34100f79",
   "metadata": {},
   "source": [
    "方法4: スライス表記を利用。先頭から、最後から5番目の文字までを抽出（最後の4文字を消去）。"
   ]
  },
  {
   "cell_type": "code",
   "execution_count": 10,
   "id": "38036954-74d0-4376-8ab4-65b1dbbc0109",
   "metadata": {},
   "outputs": [
    {
     "data": {
      "text/plain": [
       "'test'"
      ]
     },
     "execution_count": 10,
     "metadata": {},
     "output_type": "execute_result"
    }
   ],
   "source": [
    "\"test.jpg\"[:-4]"
   ]
  },
  {
   "cell_type": "markdown",
   "id": "a5420da9-8b82-4b47-b483-849519e0e7cd",
   "metadata": {},
   "source": [
    "## GUIによるパラメータの入力  \n",
    "ImageJ/FIJIではScript parameter記法が使用できたが、Pythonでは使用不可。  \n",
    "代わりに`PySimpleGUI`ライブラリを使用してGUIのウインドウを立ち上げて、さまざまなパラメータを指定できるようにする。  \n",
    "https://www.pysimplegui.org/en/latest/cookbook/  \n",
    "\n",
    "PysimpleGUIでは`one-shot window`と`persistent window`がある、パラメータ1つだけを入力するなら前者の方が便利。  "
   ]
  },
  {
   "cell_type": "code",
   "execution_count": 11,
   "id": "33ba48a2-009a-4ee5-b2e9-b6cb7e5d3634",
   "metadata": {},
   "outputs": [
    {
     "data": {
      "text/plain": [
       "'OK'"
      ]
     },
     "execution_count": 11,
     "metadata": {},
     "output_type": "execute_result"
    }
   ],
   "source": [
    "# One-shot windowの例\n",
    "import PySimpleGUI as sg\n",
    "\n",
    "layout = [\n",
    "   [sg.Text(\"My one-shot window.\")],\n",
    "   [sg.InputText(key=\"-IN-\")],\n",
    "   [sg.Submit(), sg.Cancel()],\n",
    "]\n",
    "\n",
    "window = sg.Window(\"Window Title\", layout)\n",
    "\n",
    "event, values = window.read()\n",
    "window.close()\n",
    "\n",
    "text_input = values[\"-IN-\"]\n",
    "sg.popup(\"You entered\", text_input)"
   ]
  },
  {
   "cell_type": "code",
   "execution_count": 12,
   "id": "64e2b270-1f3b-463c-9afd-41052b8fbe11",
   "metadata": {},
   "outputs": [
    {
     "name": "stdout",
     "output_type": "stream",
     "text": [
      "Exit {'-IN-': ''}\n"
     ]
    }
   ],
   "source": [
    "# Persistent windowの例\n",
    "import PySimpleGUI as sg\n",
    "\n",
    "sg.theme(\"BluePurple\")\n",
    "\n",
    "layout = [\n",
    "   [sg.Text(\"Your typed chars appear here:\"), sg.Text(size=(15, 1), key=\"-OUTPUT-\")],\n",
    "   [sg.Input(key=\"-IN-\")],\n",
    "   [sg.Button(\"Show\"), sg.Button(\"Exit\")],\n",
    "]\n",
    "\n",
    "window = sg.Window(\"Pattern 2B\", layout)\n",
    "\n",
    "while True:  # Event Loop\n",
    "   event, values = window.read()\n",
    "   print(event, values)\n",
    "   if event in (None, \"Exit\"):\n",
    "       break\n",
    "   if event == \"Show\":\n",
    "       # \"-OUTPUT-\" 要素を \"-IN-\" 要素の値に更新\n",
    "       window[\"-OUTPUT-\"].update(values[\"-IN-\"])\n",
    "\n",
    "window.close()"
   ]
  },
  {
   "cell_type": "code",
   "execution_count": 21,
   "id": "3c7fa0de-c4c9-4b76-bc91-ae6b6ebecf4c",
   "metadata": {},
   "outputs": [
    {
     "name": "stdout",
     "output_type": "stream",
     "text": [
      "{'date': '230810', 'folderS': '', 'Browse': '', 'folderD': '', 'Browse0': ''}\n"
     ]
    }
   ],
   "source": [
    "# Date, Source folder, Destination folderの情報をvaluesに辞書形式で格納\n",
    "import PySimpleGUI as sg\n",
    "layout = [[sg.Text(\"Date of experiments:\"), sg.InputText(key=\"date\")],\n",
    "   [sg.Text(\"Source folder:\"), sg.InputText(key=\"folderS\")],[sg.FolderBrowse(target=\"folderS\")],\n",
    "    [sg.Text(\"Destination folder:\"), sg.InputText(key=\"folderD\")],[sg.FolderBrowse(target=\"folderD\")],\n",
    "          [sg.Submit(), sg.Cancel()],\n",
    "]\n",
    "window = sg.Window(\"Choose folders\", layout)\n",
    "event, values = window.read()\n",
    "window.close()\n",
    "print(values)"
   ]
  },
  {
   "cell_type": "markdown",
   "id": "cf42df29-1075-455c-bc89-25b2a4126a9b",
   "metadata": {},
   "source": [
    "## バッチ処理  \n",
    "実際の画像解析においては、大量の画像データを扱う。  \n",
    "1例として、あるフォルダ内の特定の拡張子を持つ画像ファイル全てにフィルタ処理をして、  \n",
    "得られた画像を別のフォルダに保存するというバッチ処理を考える。"
   ]
  },
  {
   "cell_type": "code",
   "execution_count": 14,
   "id": "452b3fe8-9a9b-4dd4-9eb6-9915f323aa56",
   "metadata": {},
   "outputs": [],
   "source": [
    "import os\n",
    "from os import path\n",
    "import glob\n",
    "from skimage.filters import gaussian\n",
    "from skimage import img_as_ubyte"
   ]
  },
  {
   "cell_type": "code",
   "execution_count": 15,
   "id": "63aa6b0c-54d8-44e8-8781-985f69f95f1d",
   "metadata": {},
   "outputs": [],
   "source": [
    "cwd = os.getcwd()\n",
    "path = os.path.join(cwd, \"images\")\n",
    "file_list = glob.glob(path + \"/\" + \"*\") #フォルダ内の全てのfile/folderのリストを取得"
   ]
  },
  {
   "cell_type": "markdown",
   "id": "6aaecb8a-1451-4604-a5e7-c80125472697",
   "metadata": {},
   "source": [
    "方法1: ファイルを1つずつ読みこんで、フィルタ処理した後に保存"
   ]
  },
  {
   "cell_type": "code",
   "execution_count": 16,
   "id": "e20c70e2-abc6-430f-b99c-52227b2a7693",
   "metadata": {},
   "outputs": [],
   "source": [
    "# 画像を保存するフォルダを作成\n",
    "target_dir = os.path.join(cwd, \"blurred\") # os.path.joinを使うと勝手にseparatorを挟む\n",
    "if not os.path.exists(target_dir):  # target_dirが存在しなければ作成する\n",
    "    os.mkdir(target_dir)     "
   ]
  },
  {
   "cell_type": "code",
   "execution_count": 17,
   "id": "3d6cdaab-b0e1-4379-8644-1af91127bfd0",
   "metadata": {},
   "outputs": [],
   "source": [
    "for file in file_list:\n",
    "    if \".jpg\" in file or  \".JPG\" in file:\n",
    "        basename = os.path.basename(file) # フォルダ名無しのファイル名\n",
    "        filename = basename.split(\".\")[0] # さらに拡張子無しのファイル名\n",
    "        # print(filename)\n",
    "        img = cv2.imread(file)\n",
    "        smoothed_image = img_as_ubyte(gaussian(img, sigma=3, mode='constant', cval=0.0, channel_axis=2))\n",
    "        savepath = os.path.join(cwd, target_dir,\"smoothed_\"+filename+\".png\")\n",
    "        cv2.imwrite(savepath, smoothed_image)"
   ]
  },
  {
   "cell_type": "markdown",
   "id": "23dcc334-a0df-475d-86e7-2768b70bd62b",
   "metadata": {},
   "source": [
    "方法2: フィルタ処理画像をndarrayに変換してリストに格納してから保存  \n",
    "こちらの方が機械学習でよく使われる"
   ]
  },
  {
   "cell_type": "code",
   "execution_count": 18,
   "id": "8819f759-796b-47fe-9d22-cabc75edbd7d",
   "metadata": {},
   "outputs": [],
   "source": [
    "# 画像を保存するフォルダを作成\n",
    "target_dir = os.path.join(cwd, \"blurred\") # os.path.joinを使うと勝手にseparatorを挟む\n",
    "if not os.path.exists(target_dir):  # dirSGが存在しなければ作成する\n",
    "    os.mkdir(target_dir)   "
   ]
  },
  {
   "cell_type": "code",
   "execution_count": 19,
   "id": "47329718-2418-4f9d-827c-53828c8aab0d",
   "metadata": {},
   "outputs": [],
   "source": [
    "img_list = []\n",
    "name_list = []\n",
    "for file in file_list:\n",
    "    if \".jpg\" in file or \".JPG\" in file:\n",
    "        basename = os.path.basename(file)\n",
    "        filename = basename.split(\".\")[0]\n",
    "        # print(filename)\n",
    "        img = cv2.imread(file)\n",
    "        smoothed_image = img_as_ubyte(gaussian(img, sigma=3, mode='constant', cval=0.0, channel_axis=2))\n",
    "        img_list.append(smoothed_image)\n",
    "        name_list.append(filename)\n",
    "\n",
    "for img, name in zip(img_list, name_list):\n",
    "    savepath = os.path.join(cwd, target_dir,\"smoothed_\"+name+\".png\")\n",
    "    cv2.imwrite(savepath, img)"
   ]
  },
  {
   "cell_type": "markdown",
   "id": "5d96c4e8-e9ab-4fb5-9909-70aa6eb95dea",
   "metadata": {},
   "source": [
    "#### バッチ処理において、読み込むファイルの入ったフォルダ（source folder）と保存先のフォルダ（destination folder）をGUIで指定できるようにする"
   ]
  },
  {
   "cell_type": "code",
   "execution_count": 20,
   "id": "df138096-c8b1-481d-9ed0-575badb8299e",
   "metadata": {},
   "outputs": [],
   "source": [
    "import PySimpleGUI as sg\n",
    "import numpy as np\n",
    "import scipy as sp\n",
    "import cv2\n",
    "import glob\n",
    "import os\n",
    "from os import path\n",
    "from skimage.filters import gaussian\n",
    "from skimage import img_as_ubyte\n",
    "\n",
    "layout = [\n",
    "   [sg.Text(\"Source folder:\"), sg.InputText(key=\"folderS\")],[sg.FolderBrowse(target=\"folderS\", initial_folder= os.getcwd())],\n",
    "    [sg.Text(\"Destination folder:\"), sg.InputText(key=\"folderD\")],[sg.FolderBrowse(target=\"folderD\", initial_folder= os.getcwd())],\n",
    "          [sg.Submit(), sg.Cancel()],\n",
    "]\n",
    "window = sg.Window(\"Choose folders\", layout)\n",
    "while True:\n",
    "    event, values = window.read()\n",
    "    if event in (sg.WIN_CLOSED, 'Cancel'):\n",
    "        break\n",
    "    # elif event == 'Submit':\n",
    "    else:\n",
    "        path = values[\"folderS\"]\n",
    "        target_dir = values[\"folderD\"]\n",
    "        file_list = glob.glob(path + \"/\" + \"*\") #フォルダ内の全てのfile/folderのリストを取得\n",
    "        img_list = []\n",
    "        name_list = []\n",
    "        for file in file_list:\n",
    "            if \".jpg\" in file or \".JPG\" in file:\n",
    "                basename = os.path.basename(file)\n",
    "                filename = basename.split(\".\")[0]\n",
    "                # print(filename)\n",
    "                img = cv2.imread(file)\n",
    "                smoothed_image = img_as_ubyte(gaussian(img, sigma=3, mode='constant', cval=0.0, channel_axis=2))\n",
    "                img_list.append(smoothed_image)\n",
    "                name_list.append(filename)\n",
    "\n",
    "        for img, name in zip(img_list, name_list):\n",
    "            savepath = os.path.join(target_dir,\"smoothed_\"+name+\".png\")\n",
    "            cv2.imwrite(savepath, img)\n",
    "        print(\"Done.\")\n",
    "        break\n",
    "        \n",
    "window.close()"
   ]
  },
  {
   "cell_type": "code",
   "execution_count": null,
   "id": "da397a0a-53c9-454a-b8bd-0e634995670d",
   "metadata": {},
   "outputs": [],
   "source": []
  },
  {
   "cell_type": "code",
   "execution_count": null,
   "id": "e0ca9108-2ef5-45ec-9be3-f1373a243942",
   "metadata": {},
   "outputs": [],
   "source": []
  }
 ],
 "metadata": {
  "kernelspec": {
   "display_name": "Python 3 (ipykernel)",
   "language": "python",
   "name": "python3"
  },
  "language_info": {
   "codemirror_mode": {
    "name": "ipython",
    "version": 3
   },
   "file_extension": ".py",
   "mimetype": "text/x-python",
   "name": "python",
   "nbconvert_exporter": "python",
   "pygments_lexer": "ipython3",
   "version": "3.10.9"
  }
 },
 "nbformat": 4,
 "nbformat_minor": 5
}
